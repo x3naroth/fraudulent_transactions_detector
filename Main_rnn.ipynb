{
 "cells": [
  {
   "cell_type": "code",
   "execution_count": 1,
   "id": "4f3e3fb5-fb7f-45ec-8372-09a4eb547a25",
   "metadata": {
    "id": "4f3e3fb5-fb7f-45ec-8372-09a4eb547a25",
    "tags": []
   },
   "outputs": [],
   "source": [
    "import numpy as np\n",
    "import pandas as pd\n",
    "import seaborn as sns\n",
    "import matplotlib.pyplot as plt\n",
    "import sklearn\n",
    "import itertools\n",
    "import warnings\n",
    "import tensorflow as tf\n",
    "from sklearn.preprocessing import MinMaxScaler\n",
    "from sklearn.metrics import mean_squared_error\n",
    "from sklearn.model_selection import StratifiedKFold\n",
    "from imblearn.under_sampling import RandomUnderSampler\n",
    "from sklearn.preprocessing import OneHotEncoder\n",
    "from imblearn.over_sampling import SMOTE\n",
    "from sklearn.impute import SimpleImputer\n",
    "from sklearn.utils import shuffle\n",
    "from sklearn.model_selection import GridSearchCV, cross_val_score\n",
    "from sklearn.preprocessing import StandardScaler\n",
    "from sklearn.feature_selection import SelectKBest, f_classif\n",
    "from sklearn.metrics import confusion_matrix, accuracy_score, precision_score, recall_score, f1_score\n",
    "from xgboost import XGBClassifier\n",
    "from sklearn.model_selection import train_test_split\n",
    "from sklearn.impute import SimpleImputer\n",
    "from sklearn.preprocessing import StandardScaler\n",
    "from imblearn.over_sampling import SMOTE\n",
    "from sklearn.utils import shuffle\n",
    "from sklearn.pipeline import Pipeline\n",
    "from sklearn.metrics import confusion_matrix\n",
    "import seaborn as sns\n"
   ]
  },
  {
   "cell_type": "code",
   "execution_count": 2,
   "id": "ad0ed9fe-9b07-4708-87a5-af8fa6c0838f",
   "metadata": {
    "id": "ad0ed9fe-9b07-4708-87a5-af8fa6c0838f",
    "tags": []
   },
   "outputs": [],
   "source": [
    "df = pd.read_csv('Fraud.csv')"
   ]
  },
  {
   "cell_type": "code",
   "execution_count": 3,
   "id": "76358b64-e06e-426d-b4df-b74e24dd92ee",
   "metadata": {
    "colab": {
     "base_uri": "https://localhost:8080/"
    },
    "id": "76358b64-e06e-426d-b4df-b74e24dd92ee",
    "outputId": "b8785722-589e-4c51-df7d-3d7216a3e801",
    "tags": []
   },
   "outputs": [],
   "source": [
    "# Filter rows that nameDest starts with 'M' (Merchant)\n",
    "merchant_rows = df[df['nameDest'].str.startswith('M')]"
   ]
  },
  {
   "cell_type": "code",
   "execution_count": 4,
   "id": "973390ce-61e1-4690-a561-f3ba73f01904",
   "metadata": {
    "id": "973390ce-61e1-4690-a561-f3ba73f01904",
    "tags": []
   },
   "outputs": [],
   "source": [
    "df = df[~df['nameDest'].str.startswith('M')]"
   ]
  },
  {
   "cell_type": "code",
   "execution_count": 5,
   "id": "8698a1f4-c92f-438e-97dc-3878cad9fbfe",
   "metadata": {
    "id": "8698a1f4-c92f-438e-97dc-3878cad9fbfe",
    "tags": []
   },
   "outputs": [],
   "source": [
    "df = df.sort_values(by='step')\n",
    "\n",
    "train_split = 575\n",
    "\n",
    "train = df[df['step'] <= train_split]\n",
    "test = df[df['step'] > train_split]"
   ]
  },
  {
   "cell_type": "code",
   "execution_count": 6,
   "id": "25b1cbf8-00e5-481f-a8de-586389802793",
   "metadata": {
    "tags": []
   },
   "outputs": [
    {
     "name": "stderr",
     "output_type": "stream",
     "text": [
      "C:\\Users\\Lucas\\AppData\\Local\\Temp\\ipykernel_2924\\1489182613.py:1: SettingWithCopyWarning: \n",
      "A value is trying to be set on a copy of a slice from a DataFrame.\n",
      "Try using .loc[row_indexer,col_indexer] = value instead\n",
      "\n",
      "See the caveats in the documentation: https://pandas.pydata.org/pandas-docs/stable/user_guide/indexing.html#returning-a-view-versus-a-copy\n",
      "  train['train_test'] = 1\n",
      "C:\\Users\\Lucas\\AppData\\Local\\Temp\\ipykernel_2924\\1489182613.py:2: SettingWithCopyWarning: \n",
      "A value is trying to be set on a copy of a slice from a DataFrame.\n",
      "Try using .loc[row_indexer,col_indexer] = value instead\n",
      "\n",
      "See the caveats in the documentation: https://pandas.pydata.org/pandas-docs/stable/user_guide/indexing.html#returning-a-view-versus-a-copy\n",
      "  test['train_test'] = 0\n"
     ]
    }
   ],
   "source": [
    "train['train_test'] = 1\n",
    "test['train_test'] = 0"
   ]
  },
  {
   "cell_type": "code",
   "execution_count": 7,
   "id": "f6c4e744-0c6b-4ef4-8214-b54b04f3902f",
   "metadata": {
    "colab": {
     "base_uri": "https://localhost:8080/"
    },
    "id": "f6c4e744-0c6b-4ef4-8214-b54b04f3902f",
    "outputId": "595dd020-a192-4419-dcf9-4725512fd1d9",
    "tags": []
   },
   "outputs": [
    {
     "name": "stdout",
     "output_type": "stream",
     "text": [
      "True values (1): 8213\n",
      "False values (0): 4202912\n"
     ]
    }
   ],
   "source": [
    "true_count = df['isFraud'].sum()\n",
    "false_count = len(df) - true_count\n",
    "\n",
    "print(f'True values (1): {true_count}')\n",
    "print(f'False values (0): {false_count}')"
   ]
  },
  {
   "cell_type": "code",
   "execution_count": 8,
   "id": "26f49bdd-e320-43cf-b6c7-0497a879cdca",
   "metadata": {
    "tags": []
   },
   "outputs": [],
   "source": [
    "def apply_transformations(df):\n",
    "    categories = ['CASH_IN', 'CASH_OUT', 'TRANSFER', 'DEBIT'] \n",
    "    \n",
    "    \n",
    "    df['type'] = df['type'].apply(lambda x: x if x in categories else 'PAYMENT')\n",
    "    \n",
    "    category_mapping = {'CASH_IN': 1, 'CASH_OUT': 2, 'TRANSFER': 3, 'DEBIT': 4}\n",
    "    \n",
    "    df['type_encoded'] = df['type'].map(category_mapping)\n",
    "    \n",
    "    numeric_columns = ['step', 'amount', \n",
    "                       'oldbalanceOrg', 'newbalanceOrig', \n",
    "                       'oldbalanceDest', 'newbalanceDest']\n",
    "    \n",
    "    scaler = StandardScaler()\n",
    "    df[numeric_columns] = scaler.fit_transform(df[numeric_columns])\n",
    "    \n",
    "    df_encoded = df.drop(['type'], axis=1)\n",
    "    \n",
    "    return df_encoded\n",
    "\n",
    "\n",
    "training_final = apply_transformations(train.copy())\n",
    "test_final = apply_transformations(test.copy())\n",
    "numeric_columns = ['step', 'amount',\n",
    "                   'oldbalanceOrg', 'newbalanceOrig',\n",
    "                   'oldbalanceDest', 'newbalanceDest']\n",
    "\n",
    "scaler = StandardScaler()\n",
    "X_train_scaled = training_final.drop(['isFraud', 'nameOrig', 'nameDest', 'isFlaggedFraud'], axis=1)\n",
    "X_train_scaled[numeric_columns] = scaler.fit_transform(X_train_scaled[numeric_columns])\n",
    "y_train = training_final['isFraud']\n",
    "X_train_scaled.columns = X_train_scaled.columns.astype(str)"
   ]
  },
  {
   "cell_type": "code",
   "execution_count": 9,
   "id": "0ddf1d96-7632-451a-acf4-1866bc9b9194",
   "metadata": {
    "tags": []
   },
   "outputs": [
    {
     "name": "stdout",
     "output_type": "stream",
     "text": [
      "Train set transactions: 4128735\n",
      "Test set transactions: 106766\n"
     ]
    }
   ],
   "source": [
    "\n",
    "preprocessor = Pipeline([\n",
    "    ('imputer', SimpleImputer(strategy='mean')),\n",
    "    ('scaler', StandardScaler())\n",
    "])\n",
    "\n",
    "X_train_scaled_imputed = preprocessor.fit_transform(X_train_scaled)\n",
    "\n",
    "\n",
    "smote = SMOTE(sampling_strategy=0.0075, random_state=42)\n",
    "X_train_resampled, y_train_resampled = smote.fit_resample(X_train_scaled_imputed, y_train)\n",
    "\n",
    "\n",
    "X_train_resampled_df = pd.DataFrame(X_train_resampled, columns=X_train_scaled.columns)\n",
    "y_train_resampled_df = pd.Series(y_train_resampled, name='isFraud')\n",
    "\n",
    "\n",
    "X_test_scaled = test_final.drop(['isFraud', 'nameOrig', 'nameDest', 'isFlaggedFraud'], axis=1)\n",
    "X_test_scaled.columns = X_test_scaled.columns.astype(str)\n",
    "y_test = test_final['isFraud']\n",
    "\n",
    "\n",
    "print(\"Train set transactions:\", X_train_resampled_df.shape[0])\n",
    "print(\"Test set transactions:\", X_test_scaled.shape[0])\n",
    "\n",
    "\n",
    "batch_size = 10000\n",
    "num_batches = len(X_train_resampled_df) // batch_size\n",
    "\n",
    "X_train_batches = []\n",
    "y_train_batches = []\n",
    "\n",
    "for i in range(num_batches):\n",
    "    start_idx = i * batch_size\n",
    "    end_idx = (i + 1) * batch_size\n",
    "    X_batch = X_train_resampled_df.iloc[start_idx:end_idx, :]\n",
    "    y_batch = y_train_resampled_df.iloc[start_idx:end_idx]\n",
    "    X_train_batches.append(X_batch)\n",
    "    y_train_batches.append(y_batch)\n",
    "\n",
    "\n",
    "if len(X_train_resampled_df) % batch_size != 0:\n",
    "    X_batch = X_train_resampled_df.iloc[num_batches * batch_size:, :]\n",
    "    y_batch = y_train_resampled_df.iloc[num_batches * batch_size:]\n",
    "    X_train_batches.append(X_batch)\n",
    "    y_train_batches.append(y_batch)\n",
    "\n",
    "\n",
    "X_train_final = pd.concat(X_train_batches)\n",
    "y_train_final = pd.concat(y_train_batches)"
   ]
  },
  {
   "cell_type": "code",
   "execution_count": 10,
   "metadata": {},
   "outputs": [
    {
     "name": "stdout",
     "output_type": "stream",
     "text": [
      "Forma de X_train: (4128735, 8)\n",
      "Forma de y_train: (4128735,)\n"
     ]
    }
   ],
   "source": [
    "print(\"Forma de X_train:\", X_train_final.shape)\n",
    "print(\"Forma de y_train:\", y_train_final.shape)"
   ]
  },
  {
   "cell_type": "code",
   "execution_count": 11,
   "metadata": {},
   "outputs": [
    {
     "name": "stdout",
     "output_type": "stream",
     "text": [
      "Epoch 1/10\n",
      "413/413 [==============================] - 43s 92ms/step - loss: 0.1996 - accuracy: 0.9868 - precision: 0.8672 - recall: 0.1534 - f1_score: 0.2123 - auc_roc: 0.6204 - auc_pr: 0.1311\n",
      "Epoch 2/10\n",
      "413/413 [==============================] - 38s 91ms/step - loss: 0.0317 - accuracy: 0.9941 - precision: 0.9911 - recall: 0.2034 - f1_score: 0.3346 - auc_roc: 0.8551 - auc_pr: 0.4435\n",
      "Epoch 3/10\n",
      "413/413 [==============================] - 37s 91ms/step - loss: 0.0252 - accuracy: 0.9946 - precision: 0.9883 - recall: 0.2715 - f1_score: 0.4231 - auc_roc: 0.9000 - auc_pr: 0.5458\n",
      "Epoch 4/10\n",
      "413/413 [==============================] - 37s 90ms/step - loss: 0.0224 - accuracy: 0.9949 - precision: 0.9830 - recall: 0.3213 - f1_score: 0.4815 - auc_roc: 0.9068 - auc_pr: 0.5967\n",
      "Epoch 5/10\n",
      "413/413 [==============================] - 37s 91ms/step - loss: 0.0208 - accuracy: 0.9952 - precision: 0.9772 - recall: 0.3579 - f1_score: 0.5212 - auc_roc: 0.9112 - auc_pr: 0.6321\n",
      "Epoch 6/10\n",
      "413/413 [==============================] - 39s 95ms/step - loss: 0.0196 - accuracy: 0.9954 - precision: 0.9726 - recall: 0.3877 - f1_score: 0.5516 - auc_roc: 0.9152 - auc_pr: 0.6581\n",
      "Epoch 7/10\n",
      "413/413 [==============================] - 38s 91ms/step - loss: 0.0187 - accuracy: 0.9955 - precision: 0.9655 - recall: 0.4159 - f1_score: 0.5790 - auc_roc: 0.9195 - auc_pr: 0.6777\n",
      "Epoch 8/10\n",
      "413/413 [==============================] - 38s 91ms/step - loss: 0.0180 - accuracy: 0.9957 - precision: 0.9582 - recall: 0.4422 - f1_score: 0.6031 - auc_roc: 0.9258 - auc_pr: 0.6931\n",
      "Epoch 9/10\n",
      "413/413 [==============================] - 38s 91ms/step - loss: 0.0173 - accuracy: 0.9959 - precision: 0.9540 - recall: 0.4654 - f1_score: 0.6236 - auc_roc: 0.9304 - auc_pr: 0.7061\n",
      "Epoch 10/10\n",
      "413/413 [==============================] - 37s 90ms/step - loss: 0.0167 - accuracy: 0.9960 - precision: 0.9521 - recall: 0.4833 - f1_score: 0.6391 - auc_roc: 0.9341 - auc_pr: 0.7178\n"
     ]
    },
    {
     "data": {
      "text/plain": [
       "<keras.src.callbacks.History at 0x274b83c9c10>"
      ]
     },
     "execution_count": 11,
     "metadata": {},
     "output_type": "execute_result"
    }
   ],
   "source": [
    "\n",
    "from tensorflow.keras.models import Sequential\n",
    "from tensorflow.keras.layers import LSTM, Dense\n",
    "# AUC-ROC and AUC-PR are not readily available in Keras, so we use sklearn metrics\n",
    "from sklearn.metrics import auc, roc_curve, precision_recall_curve\n",
    "# Compile the model\n",
    "from keras import backend as K\n",
    "from tensorflow.keras.metrics import AUC\n",
    "# Assuming you have already preprocessed your data and have X_train_final and y_train_final\n",
    "\n",
    "# Reshape the input data to be 3-dimensional (samples, timesteps, features)\n",
    "X_train_reshaped = np.reshape(X_train_final.values, (X_train_final.shape[0], 1, X_train_final.shape[1]))\n",
    "\n",
    "# Define the LSTM model\n",
    "lstm_model = Sequential()\n",
    "lstm_model.add(LSTM(units=64, input_shape=(1, X_train_final.shape[1])))\n",
    "lstm_model.add(Dense(units=1, activation='sigmoid'))\n",
    "\n",
    "\n",
    "def precision(y_true, y_pred):\n",
    "    true_positives = K.sum(K.round(K.clip(y_true * y_pred, 0, 1)))\n",
    "    predicted_positives = K.sum(K.round(K.clip(y_pred, 0, 1)))\n",
    "    precision = true_positives / (predicted_positives + K.epsilon())\n",
    "    return precision\n",
    "\n",
    "def recall(y_true, y_pred):\n",
    "    true_positives = K.sum(K.round(K.clip(y_true * y_pred, 0, 1)))\n",
    "    possible_positives = K.sum(K.round(K.clip(y_true, 0, 1)))\n",
    "    recall = true_positives / (possible_positives + K.epsilon())\n",
    "    return recall\n",
    "\n",
    "def f1_score(y_true, y_pred):\n",
    "    precision_val = precision(y_true, y_pred)\n",
    "    recall_val = recall(y_true, y_pred)\n",
    "    f1_score = 2 * ((precision_val * recall_val) / (precision_val + recall_val + K.epsilon()))\n",
    "    return f1_score\n",
    "\n",
    "\n",
    "\n",
    "\n",
    "\n",
    "# Define the LSTM model\n",
    "lstm_model = Sequential()\n",
    "lstm_model.add(LSTM(units=64, input_shape=(1, X_train_final.shape[1])))\n",
    "lstm_model.add(Dense(units=1, activation='sigmoid'))\n",
    "\n",
    "# Define AUC metrics\n",
    "auc_roc = AUC(curve='ROC', name='auc_roc')\n",
    "auc_pr = AUC(curve='PR', name='auc_pr')\n",
    "\n",
    "# Compile the model with the additional metrics\n",
    "lstm_model.compile(optimizer='adam', \n",
    "                   loss='binary_crossentropy', \n",
    "                   metrics=['accuracy', precision, recall, f1_score, auc_roc, auc_pr])\n",
    "\n",
    "# Train the model\n",
    "lstm_model.fit(X_train_reshaped, y_train_final, epochs=10, batch_size=10000)\n",
    "\n",
    "\n",
    "# Now you can use this trained model to make predictions on new data\n"
   ]
  },
  {
   "cell_type": "code",
   "execution_count": 12,
   "metadata": {},
   "outputs": [
    {
     "name": "stderr",
     "output_type": "stream",
     "text": [
      "c:\\Users\\Lucas\\tenflow\\Lib\\site-packages\\keras\\src\\engine\\training.py:3079: UserWarning: You are saving your model as an HDF5 file via `model.save()`. This file format is considered legacy. We recommend using instead the native Keras format, e.g. `model.save('my_model.keras')`.\n",
      "  saving_api.save_model(\n"
     ]
    }
   ],
   "source": [
    "# 5. Guardar el modelo entrenado\n",
    "def save_model(model, filename):\n",
    "    model.save(filename)\n",
    "\n",
    "save_model(lstm_model, 'modelo_entrenadolstm.h5')"
   ]
  },
  {
   "cell_type": "code",
   "execution_count": 13,
   "metadata": {},
   "outputs": [
    {
     "name": "stdout",
     "output_type": "stream",
     "text": [
      "Reloading Tuner from my_dir\\hypparam\\tuner0.json\n",
      "Search space summary\n",
      "Default search space size: 2\n",
      "units (Int)\n",
      "{'default': None, 'conditions': [], 'min_value': 32, 'max_value': 128, 'step': 32, 'sampling': 'linear'}\n",
      "learning_rate (Choice)\n",
      "{'default': 0.01, 'conditions': [], 'values': [0.01, 0.0001], 'ordered': True}\n",
      "Results summary\n",
      "Results in my_dir\\hypparam\n",
      "Showing 10 best trials\n",
      "Objective(name=\"accuracy\", direction=\"max\")\n",
      "\n",
      "Trial 2 summary\n",
      "Hyperparameters:\n",
      "units: 64\n",
      "learning_rate: 0.01\n",
      "Score: 0.9978090226650238\n",
      "\n",
      "Trial 0 summary\n",
      "Hyperparameters:\n",
      "units: 128\n",
      "learning_rate: 0.0001\n",
      "Score: 0.9951205253601074\n",
      "\n",
      "Trial 1 summary\n",
      "Hyperparameters:\n",
      "units: 32\n",
      "learning_rate: 0.0001\n",
      "Score: 0.9945291876792908\n"
     ]
    },
    {
     "name": "stderr",
     "output_type": "stream",
     "text": [
      "C:\\Users\\Lucas\\AppData\\Local\\Temp\\ipykernel_2924\\3047316967.py:3: DeprecationWarning: `import kerastuner` is deprecated, please use `import keras_tuner`.\n",
      "  from kerastuner.tuners import RandomSearch\n"
     ]
    }
   ],
   "source": [
    "from tensorflow import keras\n",
    "from tensorflow.keras import layers\n",
    "from kerastuner.tuners import RandomSearch\n",
    "\n",
    "def build_model(hp):\n",
    "    model = keras.Sequential()\n",
    "    model.add(layers.LSTM(units=hp.Int('units', min_value=32, max_value=128, step=32), input_shape=(1, X_train_final.shape[1])))\n",
    "    model.add(layers.Dense(units=1, activation='sigmoid'))\n",
    "    model.compile(\n",
    "        optimizer=keras.optimizers.Adam(hp.Choice('learning_rate', values=[1e-2, 1e-4])),\n",
    "        loss='binary_crossentropy',\n",
    "        metrics=['accuracy', precision, recall, f1_score, auc_roc, auc_pr]\n",
    "    )\n",
    "    return model\n",
    "\n",
    "tuner = RandomSearch(\n",
    "    build_model,\n",
    "    objective='accuracy',\n",
    "    max_trials=3,\n",
    "    executions_per_trial=2,\n",
    "    directory='my_dir',\n",
    "    project_name='hypparam')\n",
    "\n",
    "tuner.search_space_summary()\n",
    "\n",
    "tuner.search(X_train_reshaped, y_train_final, epochs=5, batch_size=2000)\n",
    "\n",
    "tuner.results_summary()"
   ]
  },
  {
   "cell_type": "code",
   "execution_count": 14,
   "metadata": {},
   "outputs": [],
   "source": [
    "# 5. Guardar el modelo entrenado\n",
    "def save_model(model, filename):\n",
    "    model.save(filename)\n",
    "\n",
    "save_model(lstm_model, 'modelo_entrenadolstmhp.keras')"
   ]
  },
  {
   "cell_type": "code",
   "execution_count": 15,
   "metadata": {},
   "outputs": [
    {
     "name": "stdout",
     "output_type": "stream",
     "text": [
      "3337/3337 [==============================] - 7s 2ms/step\n"
     ]
    },
    {
     "data": {
      "image/png": "[encoded data removed]",
      "text/plain": [
       "<Figure size 1000x700 with 2 Axes>"
      ]
     },
     "metadata": {},
     "output_type": "display_data"
    }
   ],
   "source": [
    "from sklearn.metrics import confusion_matrix\n",
    "import seaborn as sns\n",
    "import matplotlib.pyplot as plt\n",
    "\n",
    "# Get the best model\n",
    "best_model = tuner.get_best_models(num_models=1)[0]\n",
    "\n",
    "# Add a time dimension to the input data\n",
    "X_test_reshaped = np.reshape(X_test_scaled.values, (X_test_scaled.shape[0], 1, X_test_scaled.shape[1]))\n",
    "# Make predictions\n",
    "y_pred = (best_model.predict(X_test_reshaped) > 0.0001)\n",
    "\n",
    "# Create confusion matrix\n",
    "cm = confusion_matrix(y_test, y_pred)\n",
    "\n",
    "# Plot confusion matrix\n",
    "plt.figure(figsize=(10, 7))\n",
    "sns.heatmap(cm, annot=True, fmt='d')\n",
    "plt.ylabel('Actual')\n",
    "plt.xlabel('Predicted')\n",
    "plt.show()"
   ]
  }
 ],
 "metadata": {
  "colab": {
   "provenance": []
  },
  "kernelspec": {
   "display_name": "deeplearn",
   "language": "python",
   "name": "python3"
  },
  "language_info": {
   "codemirror_mode": {
    "name": "ipython",
    "version": 3
   },
   "file_extension": ".py",
   "mimetype": "text/x-python",
   "name": "python",
   "nbconvert_exporter": "python",
   "pygments_lexer": "ipython3",
   "version": "3.11.3"
  }
 },
 "nbformat": 4,
 "nbformat_minor": 5
}
